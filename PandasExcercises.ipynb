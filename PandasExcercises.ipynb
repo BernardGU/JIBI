{
  "nbformat": 4,
  "nbformat_minor": 0,
  "metadata": {
    "colab": {
      "name": "EjerciciosPandas(28/10/2019).ipynb",
      "provenance": []
    },
    "kernelspec": {
      "name": "python3",
      "display_name": "Python 3"
    }
  },
  "cells": [
    {
      "cell_type": "markdown",
      "metadata": {
        "id": "W2neXtz-pJsB",
        "colab_type": "text"
      },
      "source": [
        "# Ejercicios Pandas (28/10/2019)"
      ]
    },
    {
      "cell_type": "markdown",
      "metadata": {
        "id": "8_8igtwFKw0X",
        "colab_type": "text"
      },
      "source": [
        "**Equipo JIBI**\n",
        "* Jesús Mejía\n",
        "* Iván Muñiz\n",
        "* Bernardo Gutiérrez\n",
        "* Iván Contrerras\n",
        "\n"
      ]
    },
    {
      "cell_type": "code",
      "metadata": {
        "id": "Ry9G17wmkefI",
        "colab_type": "code",
        "colab": {}
      },
      "source": [
        "import numpy as np\n",
        "import pandas as pd"
      ],
      "execution_count": 0,
      "outputs": []
    },
    {
      "cell_type": "markdown",
      "metadata": {
        "id": "l6evDj2FpHG4",
        "colab_type": "text"
      },
      "source": [
        "Declarar un Pandas Series de la sig lista"
      ]
    },
    {
      "cell_type": "code",
      "metadata": {
        "id": "iddpvtdZIxqY",
        "colab_type": "code",
        "colab": {}
      },
      "source": [
        "mylist = list('abcdefghijklmnopqrstuvwxyz')\n",
        "result = pd.Series(mylist)\n",
        "result"
      ],
      "execution_count": 0,
      "outputs": []
    },
    {
      "cell_type": "markdown",
      "metadata": {
        "id": "ZU0pG0oipHaH",
        "colab_type": "text"
      },
      "source": [
        "Combinar dos Series"
      ]
    },
    {
      "cell_type": "code",
      "metadata": {
        "id": "Z1uAmrwzPURl",
        "colab_type": "code",
        "colab": {}
      },
      "source": [
        "ser1 = pd.Series(list('abcdefghijklmnopqrstuvwxyz'))\n",
        "ser2 = pd.Series(np.arange(26))\n",
        "\n",
        "result = pd.DataFrame({'col1': ser1, 'col2': ser2})\n",
        "result"
      ],
      "execution_count": 0,
      "outputs": []
    },
    {
      "cell_type": "markdown",
      "metadata": {
        "id": "lBwsX1rnpwA2",
        "colab_type": "text"
      },
      "source": [
        "Filtrar elementos que no estén en un Series:"
      ]
    },
    {
      "cell_type": "code",
      "metadata": {
        "id": "o_csxIO4fm4N",
        "colab_type": "code",
        "colab": {}
      },
      "source": [
        "ser1 = pd.Series([1, 2, 3, 4, 5])\n",
        "ser2 = pd.Series([4, 5, 6, 7, 8])\n",
        "\n",
        "result = ser1[~ser1.isin(ser2)]\n",
        "result"
      ],
      "execution_count": 0,
      "outputs": []
    },
    {
      "cell_type": "markdown",
      "metadata": {
        "id": "4cm9r8kxqBxj",
        "colab_type": "text"
      },
      "source": [
        "Convertir numpy arr a dataframe de un tamaño en específico. Ejemplo, cambiar el tamaño del vector a una matrix de 7 x 5:"
      ]
    },
    {
      "cell_type": "code",
      "metadata": {
        "id": "5kkmiSdTi3y-",
        "colab_type": "code",
        "colab": {}
      },
      "source": [
        "ser = np.random.randint(1, 10, 35)\n",
        "ser.resize((7, 5))\n",
        "\n",
        "result = pd.DataFrame(ser)\n",
        "result"
      ],
      "execution_count": 0,
      "outputs": []
    },
    {
      "cell_type": "markdown",
      "metadata": {
        "id": "6XQiLCK5rikV",
        "colab_type": "text"
      },
      "source": [
        "Manipular un dataframe de strings.\n",
        "Capitalizar todos los strings:"
      ]
    },
    {
      "cell_type": "code",
      "metadata": {
        "id": "nXOZ1lwRjuEY",
        "colab_type": "code",
        "colab": {}
      },
      "source": [
        "str = ['how', 'to', 'kick', 'ass']\n",
        "strN = pd.DataFrame(str)\n",
        "\n",
        "result = strN[0].apply(lambda x: x[0].upper() + x[1:])\n",
        "result"
      ],
      "execution_count": 0,
      "outputs": []
    },
    {
      "cell_type": "markdown",
      "metadata": {
        "id": "8rARDeExrc-6",
        "colab_type": "text"
      },
      "source": [
        "Calcular distancia euclidiana entre dos vectores:"
      ]
    },
    {
      "cell_type": "code",
      "metadata": {
        "id": "uPrv4-xlnxlX",
        "colab_type": "code",
        "colab": {}
      },
      "source": [
        "p = pd.Series([1, 2, 3, 4, 5, 6, 7, 8, 9, 10])\n",
        "q = pd.Series([10, 9, 8, 7, 6, 5, 4, 3, 2, 1])\n",
        "\n",
        "result = np.sqrt(sum((p-q)**2))\n",
        "result"
      ],
      "execution_count": 0,
      "outputs": []
    }
  ]
}